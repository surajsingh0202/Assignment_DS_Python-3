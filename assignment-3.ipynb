{
 "cells": [
  {
   "cell_type": "code",
   "execution_count": 1,
   "id": "45fee413-f4eb-4621-bd6d-5c2eba7aee5d",
   "metadata": {},
   "outputs": [
    {
     "data": {
      "text/plain": [
       "'The def keyword is used to create, a function.'"
      ]
     },
     "execution_count": 1,
     "metadata": {},
     "output_type": "execute_result"
    }
   ],
   "source": [
    "'''Q1. Which keyword is used to create a function? Create a function to return a list of odd numbers in the\n",
    "range of 1 to 25.'''\n",
    "\n",
    "'''The def keyword is used to create, a function.'''"
   ]
  },
  {
   "cell_type": "code",
   "execution_count": 2,
   "id": "308bf1b5-cdb8-4de2-9b7d-85eb4b7607df",
   "metadata": {},
   "outputs": [],
   "source": [
    "l1 = [1,2,3,4,5,6,7,8,9,10,11,12,13,14,15,16,17,18,19,20,21,22,23,24,25]"
   ]
  },
  {
   "cell_type": "code",
   "execution_count": 4,
   "id": "2017a9cd-4a0e-4c79-8d54-3453798394d5",
   "metadata": {},
   "outputs": [
    {
     "data": {
      "text/plain": [
       "[1, 3, 5, 7, 9, 11, 13, 15, 17, 19, 21, 23, 25]"
      ]
     },
     "execution_count": 4,
     "metadata": {},
     "output_type": "execute_result"
    }
   ],
   "source": [
    "list(filter(lambda x : x % 2 != 0, l1))"
   ]
  },
  {
   "cell_type": "code",
   "execution_count": 5,
   "id": "591b1d8d-325d-477b-87f4-d0c0ede53447",
   "metadata": {},
   "outputs": [
    {
     "data": {
      "text/plain": [
       "'*args enable us to pass the variable number of non-keyword arguments to functions\\n**kwargs allows us to pass any number of keyword arguments'"
      ]
     },
     "execution_count": 5,
     "metadata": {},
     "output_type": "execute_result"
    }
   ],
   "source": [
    "'''Q2. Why *args and **kwargs is used in some functions? Create a function each for *args and **kwargs\n",
    "to demonstrate their use.'''\n",
    "\n",
    "\n",
    "'''*args enable us to pass the variable number of non-keyword arguments to functions\n",
    "**kwargs allows us to pass any number of keyword arguments'''"
   ]
  },
  {
   "cell_type": "code",
   "execution_count": 6,
   "id": "39161acc-51da-43aa-a90b-d3ef4b5d013c",
   "metadata": {},
   "outputs": [],
   "source": [
    "def test(*args):\n",
    "    return args"
   ]
  },
  {
   "cell_type": "code",
   "execution_count": 12,
   "id": "ff7948dc-05e8-426a-b8ed-496da2278cc7",
   "metadata": {},
   "outputs": [
    {
     "data": {
      "text/plain": [
       "('suraaj', 'singh')"
      ]
     },
     "execution_count": 12,
     "metadata": {},
     "output_type": "execute_result"
    }
   ],
   "source": [
    "test(\"suraaj\",\"singh\")"
   ]
  },
  {
   "cell_type": "code",
   "execution_count": 13,
   "id": "001ef68f-d1f4-4c75-99cc-0c23dfd7d335",
   "metadata": {},
   "outputs": [],
   "source": [
    "def test2(**kwargs):\n",
    "    return kwargs"
   ]
  },
  {
   "cell_type": "code",
   "execution_count": 15,
   "id": "56405758-e23b-405f-b37b-b7a9684ff196",
   "metadata": {},
   "outputs": [
    {
     "data": {
      "text/plain": [
       "{'a': 'suraaj', 'b': 33.33, 'c': [1, 2, 3, 4, 5]}"
      ]
     },
     "execution_count": 15,
     "metadata": {},
     "output_type": "execute_result"
    }
   ],
   "source": [
    "test2(a = \"suraaj\",b = 33.33, c = [1,2,3,4,5])"
   ]
  },
  {
   "cell_type": "code",
   "execution_count": 16,
   "id": "f84e9996-9d3c-41fc-a62e-cf18ed45ea1b",
   "metadata": {},
   "outputs": [
    {
     "data": {
      "text/plain": [
       "function"
      ]
     },
     "execution_count": 16,
     "metadata": {},
     "output_type": "execute_result"
    }
   ],
   "source": [
    "type(test2)"
   ]
  },
  {
   "cell_type": "code",
   "execution_count": 17,
   "id": "34cc3571-5f5e-4231-a3d1-a47fd5a8b866",
   "metadata": {},
   "outputs": [
    {
     "data": {
      "text/plain": [
       "' In Python, an iterator is an object that allows you to iterate over collections of data, such as lists, tuples, dictionaries, and sets.\\n\\nIn Python, an iterator is an object used to iterate across iterable objects such as lists, tuples, dicts, and sets. \\nThe iter() method is used to initialize the iterator object. Iteration is accomplished through the usage of the next() method.'"
      ]
     },
     "execution_count": 17,
     "metadata": {},
     "output_type": "execute_result"
    }
   ],
   "source": [
    "\"\"\"Q3. What is an iterator in python? Name the method used to initialise the iterator object and the method\n",
    "used for iteration. In Python, an iterator is an object used to iterate across iterable objects such as lists, tuples, dicts, and sets. The iter() method is used to initialize the iterator object. Iteration is accomplished through the usage of the next() method. list [2, 4, 6, 8, 10, 12, 14,\n",
    "16, 18, 20].\"\"\"\n",
    "\n",
    "\"\"\" In Python, an iterator is an object that allows you to iterate over collections of data, such as lists, tuples, dictionaries, and sets.\n",
    "\n",
    "In Python, an iterator is an object used to iterate across iterable objects such as lists, tuples, dicts, and sets. \n",
    "The iter() method is used to initialize the iterator object. Iteration is accomplished through the usage of the next() method.\"\"\""
   ]
  },
  {
   "cell_type": "code",
   "execution_count": 2,
   "id": "07be6f04-17bd-46e8-8095-142799dc4f51",
   "metadata": {},
   "outputs": [],
   "source": [
    "list = [2,4,6,8,10,12,14]"
   ]
  },
  {
   "cell_type": "code",
   "execution_count": 4,
   "id": "3e8a2531-1fda-4a5c-946f-101e82ef6da6",
   "metadata": {},
   "outputs": [
    {
     "name": "stdout",
     "output_type": "stream",
     "text": [
      "2\n",
      "4\n",
      "6\n",
      "8\n",
      "10\n"
     ]
    }
   ],
   "source": [
    "iterator = iter(list)\n",
    "print(next(iterator))\n",
    "print(next(iterator))\n",
    "print(next(iterator))\n",
    "print(next(iterator))\n",
    "print(next(iterator))"
   ]
  },
  {
   "cell_type": "code",
   "execution_count": 5,
   "id": "21d41d8d-a50c-45ca-b442-0fe09da87aed",
   "metadata": {},
   "outputs": [
    {
     "data": {
      "text/plain": [
       "'generator function allows you to declare a function that behaves like an iterator,\\nproviding a faster and easier way to create iterators\\n\\n\\nThe yield keyword is used to return a list of values from\\na function. Unlike the return keyword which stops further execution of the function,\\nthe yield keyword continues to the end of the function.\\n'"
      ]
     },
     "execution_count": 5,
     "metadata": {},
     "output_type": "execute_result"
    }
   ],
   "source": [
    "\"\"\"Q4. What is a generator function in python? Why yield keyword is used? Give an example of a generator\n",
    "function.\"\"\"\n",
    "\n",
    "\n",
    "\"\"\"generator function allows you to declare a function that behaves like an iterator,\n",
    "providing a faster and easier way to create iterators\n",
    "\n",
    "\n",
    "The yield keyword is used to return a list of values from\n",
    "a function. Unlike the return keyword which stops further execution of the function,\n",
    "the yield keyword continues to the end of the function.\n",
    "\"\"\"\n",
    "\n"
   ]
  },
  {
   "cell_type": "code",
   "execution_count": 6,
   "id": "35f31480-81bb-4311-a79b-e60982bf412d",
   "metadata": {},
   "outputs": [],
   "source": [
    "def test11():\n",
    "    a,b = 5,3\n",
    "    while True :\n",
    "        yield a\n",
    "        a,b = b, a+b"
   ]
  },
  {
   "cell_type": "code",
   "execution_count": 7,
   "id": "3d520cea-2fdc-4fed-955b-f35d7df80a8b",
   "metadata": {},
   "outputs": [],
   "source": [
    "fib = test11()"
   ]
  },
  {
   "cell_type": "code",
   "execution_count": 8,
   "id": "6f4ab8c6-d1bf-47b5-9867-6cf8f33d3e3e",
   "metadata": {},
   "outputs": [
    {
     "name": "stdout",
     "output_type": "stream",
     "text": [
      "5\n",
      "3\n",
      "8\n",
      "11\n",
      "19\n",
      "30\n",
      "49\n",
      "79\n",
      "128\n",
      "207\n"
     ]
    }
   ],
   "source": [
    "for i in range(10):\n",
    "    print(next(fib))"
   ]
  },
  {
   "cell_type": "code",
   "execution_count": 9,
   "id": "e1ce1878-940e-408b-a19a-355da9444555",
   "metadata": {},
   "outputs": [
    {
     "data": {
      "text/plain": [
       "'\\nQ5. Create a generator function for prime numbers less than 1000. Use the next() method to print the\\nfirst 20 prime numbers.'"
      ]
     },
     "execution_count": 9,
     "metadata": {},
     "output_type": "execute_result"
    }
   ],
   "source": [
    "\"\"\"\n",
    "Q5. Create a generator function for prime numbers less than 1000. Use the next() method to print the\n",
    "first 20 prime numbers.\"\"\"\n"
   ]
  },
  {
   "cell_type": "code",
   "execution_count": 10,
   "id": "8358b22a-39ab-465d-87c0-5e8cdbcaa50c",
   "metadata": {},
   "outputs": [
    {
     "name": "stdout",
     "output_type": "stream",
     "text": [
      "2\n",
      "3\n",
      "5\n",
      "7\n",
      "11\n",
      "13\n",
      "17\n",
      "19\n",
      "23\n",
      "29\n",
      "31\n",
      "37\n",
      "41\n",
      "43\n",
      "47\n",
      "53\n",
      "59\n",
      "61\n",
      "67\n",
      "71\n"
     ]
    }
   ],
   "source": [
    "def primes():\n",
    "    \"\"\"Create a generator function for prime numbers less than 1000.\"\"\"\n",
    "    yield 2\n",
    "    primes_list = [2]\n",
    "    for i in range(3, 1000):\n",
    "        is_prime = True\n",
    "        for prime in primes_list:\n",
    "            if i % prime == 0:\n",
    "                is_prime = False\n",
    "                break\n",
    "        if is_prime:\n",
    "            primes_list.append(i)\n",
    "            yield i\n",
    "\n",
    "prime_gen = primes()\n",
    "# the next() method to print the first 20 prime numbers.\n",
    "for i in range(20):\n",
    "    print(next(prime_gen))\n"
   ]
  },
  {
   "cell_type": "code",
   "execution_count": 11,
   "id": "4247f80e-8ad7-4575-971d-f976c9ff3e92",
   "metadata": {},
   "outputs": [
    {
     "name": "stdout",
     "output_type": "stream",
     "text": [
      "3\n",
      "5\n",
      "8\n",
      "13\n",
      "21\n",
      "34\n",
      "55\n",
      "89\n",
      "144\n",
      "233\n"
     ]
    }
   ],
   "source": [
    "\"\"\"Q6. Write a python program to print the first 10 Fibonacci numbers using a while loop.\"\"\"\n",
    "def test_fib():\n",
    "    a,b = 3,5\n",
    "    while True :\n",
    "        yield a\n",
    "        a,b = b,a+b\n",
    "fib = test_fib()\n",
    "for i in range(10):\n",
    "    print(next(fib))"
   ]
  },
  {
   "cell_type": "code",
   "execution_count": null,
   "id": "ae842e2c-a564-4afc-866f-a4d1f2681607",
   "metadata": {},
   "outputs": [],
   "source": [
    "\"\"\"Q7. Write a List Comprehension to iterate through the given string: ‘pwskills’.\n",
    "Expected output: ['p', 'w', 's', 'k', 'i', 'l', 'l', 's']\"\"\"\n",
    "\n",
    "s = \"pwskills\"\n",
    "list(map(lambda s : s.upper() , s))"
   ]
  },
  {
   "cell_type": "code",
   "execution_count": null,
   "id": "abcdfb36-1b88-4a96-8bfa-f2d2cd219da1",
   "metadata": {},
   "outputs": [],
   "source": [
    "\"\"\"Q8. Write a python program to check whether a given number is Palindrome or not using a while loop.\"\"\""
   ]
  },
  {
   "cell_type": "code",
   "execution_count": 28,
   "id": "c0e0926c-d8b4-4d00-be6a-5fdd76aa4dd3",
   "metadata": {},
   "outputs": [
    {
     "name": "stdin",
     "output_type": "stream",
     "text": [
      "Enter number: 123321\n"
     ]
    },
    {
     "name": "stdout",
     "output_type": "stream",
     "text": [
      "The number is a palindrome!\n"
     ]
    }
   ],
   "source": [
    "n=int(input(\"Enter number:\"))\n",
    "temp=n\n",
    "rev=0\n",
    "while(n>0):\n",
    "    dig=n%10\n",
    "    rev=rev*10+dig\n",
    "    n=n//10\n",
    "if(temp==rev):\n",
    "    print(\"The number is a palindrome!\")\n",
    "else:\n",
    "    print(\"The number isn't a palindrome!\")"
   ]
  },
  {
   "cell_type": "code",
   "execution_count": null,
   "id": "b5b16940-4489-4cfb-bcdf-c7902c174012",
   "metadata": {},
   "outputs": [],
   "source": [
    "\"\"\"Q9. Write a code to print odd numbers from 1 to 100 using list comprehension.\"\"\""
   ]
  },
  {
   "cell_type": "code",
   "execution_count": null,
   "id": "8fe52bf5-035e-419f-8b18-3a4f66fb522f",
   "metadata": {},
   "outputs": [],
   "source": [
    "odd_list = [element for element in range(1, 101) if element % 2 == 1 ]\n",
    "print(odd_list)"
   ]
  }
 ],
 "metadata": {
  "kernelspec": {
   "display_name": "Python 3 (ipykernel)",
   "language": "python",
   "name": "python3"
  },
  "language_info": {
   "codemirror_mode": {
    "name": "ipython",
    "version": 3
   },
   "file_extension": ".py",
   "mimetype": "text/x-python",
   "name": "python",
   "nbconvert_exporter": "python",
   "pygments_lexer": "ipython3",
   "version": "3.10.8"
  }
 },
 "nbformat": 4,
 "nbformat_minor": 5
}
